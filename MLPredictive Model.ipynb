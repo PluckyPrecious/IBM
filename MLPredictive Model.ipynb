{
    "cells": [
        {
            "metadata": {},
            "cell_type": "markdown",
            "source": "# Predict heart failure with Watson Machine Learning\n\n![](https://www.cdc.gov/vitalsigns/heartdisease-stroke/images/graph4_980px.jpg)\n\nThis notebook contains steps and code to create a predictive model to predict heart failure and then deploy that model to Watson Machine Learning so it can be used in an application.\n\n## Learning Goals\n\nThe learning goals of this notebook are:\n\n* Load a CSV file into the Object Storage service linked to your Watson Studio\n* Create an Apache Spark machine learning model\n* Train and evaluate a model\n* Persist a model in a Watson Machine Learning repository"
        },
        {
            "metadata": {},
            "cell_type": "markdown",
            "source": "## 1. Setup\n\nBefore you use the sample code in this notebook, you must perform the following setup tasks:\n\n* Create a Watson Machine Learning service instance (a free plan is offered) and associate it with your project\n* Upload heart failure data to the Object Store service that is part of Watson Studio"
        },
        {
            "metadata": {},
            "cell_type": "markdown",
            "source": "We'll be using a few libraries for this exercise:\n\n1. [Watson Machine Learning Client](http://wml-api-pyclient.mybluemix.net/): Client library to work with the Watson Machine Learning service on IBM Cloud.\n1. [Pixiedust](https://github.com/pixiedust/pixiedust): Python Helper library for Jupyter Notebooks\n1. [ibmos2spark](https://github.com/ibm-watson-data-lab/ibmos2spark): Facilitates Data I/O between Spark and IBM Object Storage services"
        },
        {
            "metadata": {},
            "cell_type": "code",
            "source": "!pip install --upgrade ibmos2spark\n!pip install --upgrade pixiedust\n!pip install --upgrade watson-machine-learning-client",
            "execution_count": null,
            "outputs": []
        },
        {
            "metadata": {},
            "cell_type": "markdown",
            "source": "## 2. Load and explore data\n\nIn this section you will load the data as an Apache Spark DataFrame and perform a basic exploration. Load the data to the Spark DataFrame from your associated Object Storage instance.\n\n> **IMPORTANT**: Follow the lab instructions to insert an Apache Spark DataFrame in the cell below.\n\n> **IMPORTANT**: Ensure the DataFrame is named `df_data`.\n\n> **IMPORTANT**: Add `.option('inferSchema','True')\\` to the inserted code."
        },
        {
            "metadata": {},
            "cell_type": "code",
            "source": "\nimport ibmos2spark\n# @hidden_cell\ncredentials = {\n    'endpoint': 'https://s3.eu-geo.objectstorage.service.networklayer.com',\n    'service_id': 'iam-ServiceId-40606829-38f3-4a93-819e-d7d081195673',\n    'iam_service_endpoint': 'https://iam.eu-gb.bluemix.net/oidc/token',\n    'api_key': 'EHgozvAZkRXFYNr_gquQHmEHJ4ALKKIjEwQqy4qOKIe6'\n}\n\nconfiguration_name = 'os_b0033a4cd8344f688b6816f8c7191886_configs'\ncos = ibmos2spark.CloudObjectStorage(sc, credentials, configuration_name, 'bluemix_cos')\n\nfrom pyspark.sql import SparkSession\nspark = SparkSession.builder.getOrCreate()\ndf_data = spark.read\\\n  .format('org.apache.spark.sql.execution.datasources.csv.CSVFileFormat')\\\n  .option('header', 'true')\\\n  .option('inferschema','True')\\\n  .load(cos.url('patientdataV6.csv', 'heartratefailureapp-donotdelete-pr-3fnd0muu3pshkh'))\ndf_data.take(5)\n    ",
            "execution_count": 23,
            "outputs": [
                {
                    "output_type": "execute_result",
                    "execution_count": 23,
                    "data": {
                        "text/plain": "[Row(AVGHEARTBEATSPERMIN=93, PALPITATIONSPERDAY=22, CHOLESTEROL=163, BMI=25, HEARTFAILURE='N', AGE=49, SEX='F', FAMILYHISTORY='N', SMOKERLAST5YRS='N', EXERCISEMINPERWEEK=110),\n Row(AVGHEARTBEATSPERMIN=108, PALPITATIONSPERDAY=22, CHOLESTEROL=181, BMI=24, HEARTFAILURE='N', AGE=32, SEX='F', FAMILYHISTORY='N', SMOKERLAST5YRS='N', EXERCISEMINPERWEEK=192),\n Row(AVGHEARTBEATSPERMIN=86, PALPITATIONSPERDAY=0, CHOLESTEROL=239, BMI=20, HEARTFAILURE='N', AGE=60, SEX='F', FAMILYHISTORY='N', SMOKERLAST5YRS='N', EXERCISEMINPERWEEK=121),\n Row(AVGHEARTBEATSPERMIN=80, PALPITATIONSPERDAY=36, CHOLESTEROL=164, BMI=31, HEARTFAILURE='Y', AGE=45, SEX='F', FAMILYHISTORY='Y', SMOKERLAST5YRS='N', EXERCISEMINPERWEEK=141),\n Row(AVGHEARTBEATSPERMIN=66, PALPITATIONSPERDAY=36, CHOLESTEROL=185, BMI=23, HEARTFAILURE='N', AGE=39, SEX='F', FAMILYHISTORY='N', SMOKERLAST5YRS='N', EXERCISEMINPERWEEK=63)]"
                    },
                    "metadata": {}
                }
            ]
        },
        {
            "metadata": {},
            "cell_type": "markdown",
            "source": "Explore the loaded data by using the following Apache\u00ae Spark DataFrame methods:\n\n* `df_data.printSchema` to print the data schema\n* `df_data.describe()` to print the top twenty records\n* `df_data.count()` to count all records"
        },
        {
            "metadata": {},
            "cell_type": "code",
            "source": "df_data.printSchema()",
            "execution_count": 24,
            "outputs": [
                {
                    "output_type": "stream",
                    "text": "root\n |-- AVGHEARTBEATSPERMIN: integer (nullable = true)\n |-- PALPITATIONSPERDAY: integer (nullable = true)\n |-- CHOLESTEROL: integer (nullable = true)\n |-- BMI: integer (nullable = true)\n |-- HEARTFAILURE: string (nullable = true)\n |-- AGE: integer (nullable = true)\n |-- SEX: string (nullable = true)\n |-- FAMILYHISTORY: string (nullable = true)\n |-- SMOKERLAST5YRS: string (nullable = true)\n |-- EXERCISEMINPERWEEK: integer (nullable = true)\n\n",
                    "name": "stdout"
                }
            ]
        },
        {
            "metadata": {},
            "cell_type": "markdown",
            "source": "As you can see, the data contains ten  fields. The  HEARTFAILURE field is the one we would like to predict (label)."
        },
        {
            "metadata": {},
            "cell_type": "code",
            "source": "df_data.show()",
            "execution_count": 25,
            "outputs": [
                {
                    "output_type": "stream",
                    "text": "+-------------------+------------------+-----------+---+------------+---+---+-------------+--------------+------------------+\n|AVGHEARTBEATSPERMIN|PALPITATIONSPERDAY|CHOLESTEROL|BMI|HEARTFAILURE|AGE|SEX|FAMILYHISTORY|SMOKERLAST5YRS|EXERCISEMINPERWEEK|\n+-------------------+------------------+-----------+---+------------+---+---+-------------+--------------+------------------+\n|                 93|                22|        163| 25|           N| 49|  F|            N|             N|               110|\n|                108|                22|        181| 24|           N| 32|  F|            N|             N|               192|\n|                 86|                 0|        239| 20|           N| 60|  F|            N|             N|               121|\n|                 80|                36|        164| 31|           Y| 45|  F|            Y|             N|               141|\n|                 66|                36|        185| 23|           N| 39|  F|            N|             N|                63|\n|                125|                27|        201| 31|           N| 47|  M|            N|             N|                13|\n|                 83|                27|        169| 20|           N| 71|  F|            Y|             N|               124|\n|                107|                31|        199| 32|           N| 55|  F|            N|             N|                22|\n|                 92|                28|        174| 22|           N| 44|  F|            N|             N|               107|\n|                 84|                12|        206| 25|           N| 50|  M|            N|             N|               199|\n|                 60|                 1|        194| 28|           N| 71|  M|            N|             N|                27|\n|                134|                 7|        228| 34|           Y| 63|  F|            Y|             N|                92|\n|                103|                 0|        237| 24|           N| 64|  F|            Y|             N|                34|\n|                101|                39|        157| 20|           N| 49|  M|            N|             N|                33|\n|                 92|                 2|        169| 26|           N| 36|  M|            N|             N|               217|\n|                 80|                27|        234| 27|           N| 50|  M|            N|             N|                28|\n|                 82|                14|        155| 30|           N| 70|  F|            N|             N|               207|\n|                 63|                 9|        204| 26|           N| 42|  M|            N|             N|                88|\n|                 83|                12|        209| 29|           N| 38|  M|            Y|             N|               220|\n|                 80|                37|        157| 20|           N| 48|  M|            N|             N|                54|\n+-------------------+------------------+-----------+---+------------+---+---+-------------+--------------+------------------+\nonly showing top 20 rows\n\n",
                    "name": "stdout"
                }
            ]
        },
        {
            "metadata": {},
            "cell_type": "code",
            "source": "df_data.describe().show()",
            "execution_count": 26,
            "outputs": [
                {
                    "output_type": "stream",
                    "text": "+-------+-------------------+------------------+------------------+------------------+------------+------------------+-----+-------------+--------------+------------------+\n|summary|AVGHEARTBEATSPERMIN|PALPITATIONSPERDAY|       CHOLESTEROL|               BMI|HEARTFAILURE|               AGE|  SEX|FAMILYHISTORY|SMOKERLAST5YRS|EXERCISEMINPERWEEK|\n+-------+-------------------+------------------+------------------+------------------+------------+------------------+-----+-------------+--------------+------------------+\n|  count|              10800|             10800|             10800|             10800|       10800|             10800|10800|        10800|         10800|             10800|\n|   mean|  87.11509259259259|20.423148148148147|195.08027777777778| 26.35972222222222|        null|49.965185185185184| null|         null|          null|119.72953703703703|\n| stddev| 19.744375148984474|12.165320351622993|26.136731865042325|3.8201472810942136|        null|13.079280962015586| null|         null|          null| 71.14706006382843|\n|    min|                 48|                 0|               150|                20|           N|                28|    F|            N|             N|                 0|\n|    max|                161|                45|               245|                34|           Y|                72|    M|            Y|             Y|               250|\n+-------+-------------------+------------------+------------------+------------------+------------+------------------+-----+-------------+--------------+------------------+\n\n",
                    "name": "stdout"
                }
            ]
        },
        {
            "metadata": {},
            "cell_type": "code",
            "source": "df_data.count()",
            "execution_count": 27,
            "outputs": [
                {
                    "output_type": "execute_result",
                    "execution_count": 27,
                    "data": {
                        "text/plain": "10800"
                    },
                    "metadata": {}
                }
            ]
        },
        {
            "metadata": {},
            "cell_type": "markdown",
            "source": "As you can see, the data set contains 10800 records."
        },
        {
            "metadata": {},
            "cell_type": "markdown",
            "source": "## 3. Interactive Visualizations w/PixieDust"
        },
        {
            "metadata": {},
            "cell_type": "code",
            "source": "import pixiedust",
            "execution_count": 28,
            "outputs": [
                {
                    "output_type": "stream",
                    "text": "Pixiedust database opened successfully\nTable VERSION_TRACKER created successfully\nTable METRICS_TRACKER created successfully\n\nShare anonymous install statistics? (opt-out instructions)\n\nPixieDust will record metadata on its environment the next time the package is installed or updated. The data is anonymized and aggregated to help plan for future releases, and records only the following values:\n\n{\n   \"data_sent\": currentDate,\n   \"runtime\": \"python\",\n   \"application_version\": currentPixiedustVersion,\n   \"space_id\": nonIdentifyingUniqueId,\n   \"config\": {\n       \"repository_id\": \"https://github.com/ibm-watson-data-lab/pixiedust\",\n       \"target_runtimes\": [\"Data Science Experience\"],\n       \"event_id\": \"web\",\n       \"event_organizer\": \"dev-journeys\"\n   }\n}\nYou can opt out by calling pixiedust.optOut() in a new cell.\n",
                    "name": "stdout"
                },
                {
                    "output_type": "display_data",
                    "data": {
                        "text/html": "\n        <div style=\"margin:10px\">\n            <a href=\"https://github.com/ibm-watson-data-lab/pixiedust\" target=\"_new\">\n                <img src=\"https://github.com/ibm-watson-data-lab/pixiedust/raw/master/docs/_static/pd_icon32.png\" style=\"float:left;margin-right:10px\"/>\n            </a>\n            <span>Pixiedust version 1.1.16</span>\n        </div>\n        ",
                        "text/plain": "<IPython.core.display.HTML object>"
                    },
                    "metadata": {}
                },
                {
                    "output_type": "stream",
                    "text": "\u001b[31mPixiedust runtime updated. Please restart kernel\u001b[0m\nTable SPARK_PACKAGES created successfully\nTable USER_PREFERENCES created successfully\nTable service_connections created successfully\n",
                    "name": "stdout"
                },
                {
                    "output_type": "display_data",
                    "data": {
                        "text/html": "<div>Warning: You are not running the latest version of PixieDust. Current is 1.1.16, Latest is 1.1.18</div>",
                        "text/plain": "<IPython.core.display.HTML object>"
                    },
                    "metadata": {}
                },
                {
                    "output_type": "display_data",
                    "data": {
                        "text/html": "\n                <div>Please copy and run the following command in a new cell to upgrade: <span style=\"background-color:#ececec;font-family:monospace;padding:0 5px\">!pip install --user --upgrade pixiedust</span></div>\n            ",
                        "text/plain": "<IPython.core.display.HTML object>"
                    },
                    "metadata": {}
                },
                {
                    "output_type": "display_data",
                    "data": {
                        "text/html": "<div>Please restart kernel after upgrading.</div>",
                        "text/plain": "<IPython.core.display.HTML object>"
                    },
                    "metadata": {}
                }
            ]
        },
        {
            "metadata": {},
            "cell_type": "markdown",
            "source": "### Simple visualization using bar charts\n\nWith PixieDust's `display()` method you can visually explore the loaded data using built-in charts, such as, bar charts, line charts, scatter plots, or maps.\nTo explore a data set: choose the desired chart type from the drop down, configure chart options, configure display options."
        },
        {
            "metadata": {
                "pixiedust": {
                    "displayParams": {
                        "aggregation": "AVG",
                        "chartsize": "78",
                        "handlerId": "scatterPlot",
                        "keyFields": "AGE",
                        "kind": "kde",
                        "mpld3": "false",
                        "rendererId": "seaborn",
                        "rowCount": "500",
                        "title": "Explore",
                        "valueFields": "BMI"
                    }
                }
            },
            "cell_type": "code",
            "source": "display(df_data)",
            "execution_count": null,
            "outputs": [
                {
                    "data": {
                        "text/html": "<style type=\"text/css\">.pd_warning{display:none;}</style><div class=\"pd_warning\"><em>Hey, there's something awesome here! To see it, open this notebook outside GitHub, in a viewer like Jupyter</em></div>\n        <div class=\"pd_save is-viewer-good\" style=\"padding-right:10px;text-align: center;line-height:initial !important;font-size: xx-large;font-weight: 500;color: coral;\">\n            Explore\n        </div>\n    <div class=\"pd_save is-viewer-good\" id=\"chartFigure0f62006f\" style=\"overflow-x:auto\">\n            \n                    \n                            <center><img class=\"pd_save\" style=\"max-width:initial !important\" src=\"data:image/png;base64,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\"></center>\n                        \n                    \n                \n        </div>",
                        "text/plain": "<IPython.core.display.HTML object>"
                    },
                    "metadata": {},
                    "output_type": "display_data"
                }
            ]
        },
        {
            "metadata": {},
            "cell_type": "markdown",
            "source": "## 4. Create a Spark machine learning model\n\nIn this section you will learn how to prepare data, create and train a Spark machine learning model.\n\n### 4.1 Prepare data\n\nIn this subsection you will split your data into: train and test data sets."
        },
        {
            "metadata": {},
            "cell_type": "code",
            "source": "split_data = df_data.randomSplit([0.8, 0.20], 24)\ntrain_data = split_data[0]\ntest_data = split_data[1]\n\nprint(\"Number of training records: \" + str(train_data.count()))\nprint(\"Number of testing records : \" + str(test_data.count()))",
            "execution_count": 30,
            "outputs": [
                {
                    "output_type": "stream",
                    "text": "Number of training records: 8637\nNumber of testing records : 2163\n",
                    "name": "stdout"
                }
            ]
        },
        {
            "metadata": {},
            "cell_type": "markdown",
            "source": "As you can see our data has been successfully split into two data sets:\n\n* The train data set, which is the largest group, is used for training.\n* The test data set will be used for model evaluation and is used to test the assumptions of the model.\n\n### 4.2 Create pipeline and train a model\n\nIn this section you will create a Spark machine learning pipeline and then train the model. In the first step you need to import the Spark machine learning packages that will be needed in the subsequent steps. A sequence of data processing is called a _data pipeline_. Each step in the pipeline processes the data and passes the result to the next step in the pipeline, this allows you to transform and fit your model with the raw input data."
        },
        {
            "metadata": {},
            "cell_type": "code",
            "source": "from pyspark.ml.feature import StringIndexer, IndexToString, VectorAssembler\nfrom pyspark.ml.classification import RandomForestClassifier\nfrom pyspark.ml.evaluation import MulticlassClassificationEvaluator\nfrom pyspark.ml import Pipeline, Model",
            "execution_count": 31,
            "outputs": []
        },
        {
            "metadata": {},
            "cell_type": "markdown",
            "source": "In the following step, convert all the string fields to numeric ones by using the StringIndexer transformer."
        },
        {
            "metadata": {},
            "cell_type": "code",
            "source": "stringIndexer_label = StringIndexer(inputCol=\"HEARTFAILURE\", outputCol=\"label\").fit(df_data)\nstringIndexer_sex = StringIndexer(inputCol=\"SEX\", outputCol=\"SEX_IX\")\nstringIndexer_famhist = StringIndexer(inputCol=\"FAMILYHISTORY\", outputCol=\"FAMILYHISTORY_IX\")\nstringIndexer_smoker = StringIndexer(inputCol=\"SMOKERLAST5YRS\", outputCol=\"SMOKERLAST5YRS_IX\")",
            "execution_count": 32,
            "outputs": []
        },
        {
            "metadata": {},
            "cell_type": "markdown",
            "source": "\nIn the following step, create a feature vector by combining all features together."
        },
        {
            "metadata": {},
            "cell_type": "code",
            "source": "vectorAssembler_features = VectorAssembler(inputCols=[\"AVGHEARTBEATSPERMIN\",\"PALPITATIONSPERDAY\",\"CHOLESTEROL\",\"BMI\",\"AGE\",\"SEX_IX\",\"FAMILYHISTORY_IX\",\"SMOKERLAST5YRS_IX\",\"EXERCISEMINPERWEEK\"], outputCol=\"features\")",
            "execution_count": 33,
            "outputs": []
        },
        {
            "metadata": {},
            "cell_type": "markdown",
            "source": "Next, define estimators you want to use for classification. Random Forest is used in the following example."
        },
        {
            "metadata": {},
            "cell_type": "code",
            "source": "rf = RandomForestClassifier(labelCol=\"label\", featuresCol=\"features\")",
            "execution_count": 34,
            "outputs": []
        },
        {
            "metadata": {},
            "cell_type": "markdown",
            "source": "Finally, indexed labels back to original labels."
        },
        {
            "metadata": {},
            "cell_type": "code",
            "source": "labelConverter = IndexToString(inputCol=\"prediction\", outputCol=\"predictedLabel\", labels=stringIndexer_label.labels)",
            "execution_count": 35,
            "outputs": []
        },
        {
            "metadata": {},
            "cell_type": "code",
            "source": "transform_df_pipeline = Pipeline(stages=[stringIndexer_label, stringIndexer_sex, stringIndexer_famhist, stringIndexer_smoker, vectorAssembler_features])\ntransformed_df = transform_df_pipeline.fit(df_data).transform(df_data)\ntransformed_df.show()",
            "execution_count": 36,
            "outputs": [
                {
                    "output_type": "stream",
                    "text": "+-------------------+------------------+-----------+---+------------+---+---+-------------+--------------+------------------+-----+------+----------------+-----------------+--------------------+\n|AVGHEARTBEATSPERMIN|PALPITATIONSPERDAY|CHOLESTEROL|BMI|HEARTFAILURE|AGE|SEX|FAMILYHISTORY|SMOKERLAST5YRS|EXERCISEMINPERWEEK|label|SEX_IX|FAMILYHISTORY_IX|SMOKERLAST5YRS_IX|            features|\n+-------------------+------------------+-----------+---+------------+---+---+-------------+--------------+------------------+-----+------+----------------+-----------------+--------------------+\n|                 93|                22|        163| 25|           N| 49|  F|            N|             N|               110|  0.0|   1.0|             0.0|              0.0|[93.0,22.0,163.0,...|\n|                108|                22|        181| 24|           N| 32|  F|            N|             N|               192|  0.0|   1.0|             0.0|              0.0|[108.0,22.0,181.0...|\n|                 86|                 0|        239| 20|           N| 60|  F|            N|             N|               121|  0.0|   1.0|             0.0|              0.0|[86.0,0.0,239.0,2...|\n|                 80|                36|        164| 31|           Y| 45|  F|            Y|             N|               141|  1.0|   1.0|             1.0|              0.0|[80.0,36.0,164.0,...|\n|                 66|                36|        185| 23|           N| 39|  F|            N|             N|                63|  0.0|   1.0|             0.0|              0.0|[66.0,36.0,185.0,...|\n|                125|                27|        201| 31|           N| 47|  M|            N|             N|                13|  0.0|   0.0|             0.0|              0.0|[125.0,27.0,201.0...|\n|                 83|                27|        169| 20|           N| 71|  F|            Y|             N|               124|  0.0|   1.0|             1.0|              0.0|[83.0,27.0,169.0,...|\n|                107|                31|        199| 32|           N| 55|  F|            N|             N|                22|  0.0|   1.0|             0.0|              0.0|[107.0,31.0,199.0...|\n|                 92|                28|        174| 22|           N| 44|  F|            N|             N|               107|  0.0|   1.0|             0.0|              0.0|[92.0,28.0,174.0,...|\n|                 84|                12|        206| 25|           N| 50|  M|            N|             N|               199|  0.0|   0.0|             0.0|              0.0|[84.0,12.0,206.0,...|\n|                 60|                 1|        194| 28|           N| 71|  M|            N|             N|                27|  0.0|   0.0|             0.0|              0.0|[60.0,1.0,194.0,2...|\n|                134|                 7|        228| 34|           Y| 63|  F|            Y|             N|                92|  1.0|   1.0|             1.0|              0.0|[134.0,7.0,228.0,...|\n|                103|                 0|        237| 24|           N| 64|  F|            Y|             N|                34|  0.0|   1.0|             1.0|              0.0|[103.0,0.0,237.0,...|\n|                101|                39|        157| 20|           N| 49|  M|            N|             N|                33|  0.0|   0.0|             0.0|              0.0|[101.0,39.0,157.0...|\n|                 92|                 2|        169| 26|           N| 36|  M|            N|             N|               217|  0.0|   0.0|             0.0|              0.0|[92.0,2.0,169.0,2...|\n|                 80|                27|        234| 27|           N| 50|  M|            N|             N|                28|  0.0|   0.0|             0.0|              0.0|[80.0,27.0,234.0,...|\n|                 82|                14|        155| 30|           N| 70|  F|            N|             N|               207|  0.0|   1.0|             0.0|              0.0|[82.0,14.0,155.0,...|\n|                 63|                 9|        204| 26|           N| 42|  M|            N|             N|                88|  0.0|   0.0|             0.0|              0.0|[63.0,9.0,204.0,2...|\n|                 83|                12|        209| 29|           N| 38|  M|            Y|             N|               220|  0.0|   0.0|             1.0|              0.0|[83.0,12.0,209.0,...|\n|                 80|                37|        157| 20|           N| 48|  M|            N|             N|                54|  0.0|   0.0|             0.0|              0.0|[80.0,37.0,157.0,...|\n+-------------------+------------------+-----------+---+------------+---+---+-------------+--------------+------------------+-----+------+----------------+-----------------+--------------------+\nonly showing top 20 rows\n\n",
                    "name": "stdout"
                }
            ]
        },
        {
            "metadata": {},
            "cell_type": "markdown",
            "source": "Let's build the pipeline now. A pipeline consists of transformers and an estimator."
        },
        {
            "metadata": {},
            "cell_type": "code",
            "source": "pipeline_rf = Pipeline(stages=[stringIndexer_label, stringIndexer_sex, stringIndexer_famhist, stringIndexer_smoker, vectorAssembler_features, rf, labelConverter])",
            "execution_count": 37,
            "outputs": []
        },
        {
            "metadata": {},
            "cell_type": "markdown",
            "source": "Now, you can train your Random Forest model by using the previously defined **pipeline** and **training data**."
        },
        {
            "metadata": {},
            "cell_type": "code",
            "source": "model_rf = pipeline_rf.fit(train_data)",
            "execution_count": 38,
            "outputs": []
        },
        {
            "metadata": {},
            "cell_type": "markdown",
            "source": "You can check your **model accuracy** now. To evaluate the model, use **test data**."
        },
        {
            "metadata": {},
            "cell_type": "code",
            "source": "predictions = model_rf.transform(test_data)\nevaluatorRF = MulticlassClassificationEvaluator(labelCol=\"label\", predictionCol=\"prediction\", metricName=\"accuracy\")\naccuracy = evaluatorRF.evaluate(predictions)\nprint(\"Accuracy = %g\" % accuracy)\nprint(\"Test Error = %g\" % (1.0 - accuracy))",
            "execution_count": 39,
            "outputs": [
                {
                    "output_type": "stream",
                    "text": "Accuracy = 0.867314\nTest Error = 0.132686\n",
                    "name": "stdout"
                }
            ]
        },
        {
            "metadata": {},
            "cell_type": "markdown",
            "source": "You can tune your model now to achieve better accuracy. For simplicity of this example tuning section is omitted."
        },
        {
            "metadata": {},
            "cell_type": "markdown",
            "source": "## 5. Persist model\n\nIn this section you will learn how to store your pipeline and model in Watson Machine Learning repository by using Python client libraries.\nFirst, you must import client libraries.\n\n> **IMPORTANT**: Update the `wml_credentials` variable below. Copy and paste the entire credential dictionary, which can be found on the _Service Credentials_ tab of the Watson Machine Learning service instance created on the IBM Cloud."
        },
        {
            "metadata": {},
            "cell_type": "code",
            "source": "wml_credentials = {\n  \"apikey\": \"wjifCpMI3pNgCoaoHBG2WqVG0SVvjddL5ggPCryBGb63\",\n  \"iam_apikey_description\": \"Auto-generated for key 404aaf48-7528-4cea-afde-e3247479862f\",\n  \"iam_apikey_name\": \"wdp-writer\",\n  \"iam_role_crn\": \"crn:v1:bluemix:public:iam::::serviceRole:Writer\",\n  \"iam_serviceid_crn\": \"crn:v1:bluemix:public:iam-identity::a/a9ee113d59f64c0880707980f3a6a8a7::serviceid:ServiceId-8ed9335f-f792-424c-864f-25ed25c7b8f4\",\n  \"instance_id\": \"71441222-2687-4bf4-b3f1-525ff841f26f\",\n  \"url\": \"https://eu-gb.ml.cloud.ibm.com\"\n}\nprint(wml_credentials)",
            "execution_count": 1,
            "outputs": [
                {
                    "output_type": "stream",
                    "text": "Waiting for a Spark session to start...\nSpark Initialization Done! ApplicationId = app-20200427233647-0000\nKERNEL_ID = ea9402a9-570c-4bb8-bdf3-9657e8416af0\n{'apikey': 'wjifCpMI3pNgCoaoHBG2WqVG0SVvjddL5ggPCryBGb63', 'iam_apikey_description': 'Auto-generated for key 404aaf48-7528-4cea-afde-e3247479862f', 'iam_apikey_name': 'wdp-writer', 'iam_role_crn': 'crn:v1:bluemix:public:iam::::serviceRole:Writer', 'iam_serviceid_crn': 'crn:v1:bluemix:public:iam-identity::a/a9ee113d59f64c0880707980f3a6a8a7::serviceid:ServiceId-8ed9335f-f792-424c-864f-25ed25c7b8f4', 'instance_id': '71441222-2687-4bf4-b3f1-525ff841f26f', 'url': 'https://eu-gb.ml.cloud.ibm.com'}\n",
                    "name": "stdout"
                }
            ]
        },
        {
            "metadata": {},
            "cell_type": "code",
            "source": "from watson_machine_learning_client import WatsonMachineLearningAPIClient\nclient = WatsonMachineLearningAPIClient(wml_credentials)\nprint(client.version)",
            "execution_count": 2,
            "outputs": [
                {
                    "output_type": "stream",
                    "text": "1.0.375\n",
                    "name": "stdout"
                }
            ]
        },
        {
            "metadata": {},
            "cell_type": "markdown",
            "source": "> **TIP**: Update the cell below with your name, email, and name you wish to give to your model."
        },
        {
            "metadata": {},
            "cell_type": "markdown",
            "source": "Create model artifact (abstraction layer)."
        },
        {
            "metadata": {},
            "cell_type": "code",
            "source": "model_props = {client.repository.ModelMetaNames.AUTHOR_NAME: \"Prekel\", \n               client.repository.ModelMetaNames.NAME: \"Heart Failure Prediction Model\"}\npublished_model = client.repository.store_model(model=Prekel, pipeline=pipeline_rf, meta_props=model_props, training_data=train_data)",
            "execution_count": 8,
            "outputs": [
                {
                    "output_type": "error",
                    "ename": "NameError",
                    "evalue": "name 'model_rf' is not defined",
                    "traceback": [
                        "\u001b[0;31m---------------------------------------------------------------------------\u001b[0m",
                        "\u001b[0;31mNameError\u001b[0m                                 Traceback (most recent call last)",
                        "\u001b[0;32m<ipython-input-8-ffdae8cfb41f>\u001b[0m in \u001b[0;36m<module>\u001b[0;34m()\u001b[0m\n\u001b[1;32m      1\u001b[0m model_props = {client.repository.ModelMetaNames.AUTHOR_NAME: \"Prekel\", \n\u001b[1;32m      2\u001b[0m                client.repository.ModelMetaNames.NAME: \"Heart Failure Prediction Model\"}\n\u001b[0;32m----> 3\u001b[0;31m \u001b[0mpublished_model\u001b[0m \u001b[0;34m=\u001b[0m \u001b[0mclient\u001b[0m\u001b[0;34m.\u001b[0m\u001b[0mrepository\u001b[0m\u001b[0;34m.\u001b[0m\u001b[0mstore_model\u001b[0m\u001b[0;34m(\u001b[0m\u001b[0mmodel\u001b[0m\u001b[0;34m=\u001b[0m\u001b[0mmodel_rf\u001b[0m\u001b[0;34m,\u001b[0m \u001b[0mpipeline\u001b[0m\u001b[0;34m=\u001b[0m\u001b[0mpipeline_rf\u001b[0m\u001b[0;34m,\u001b[0m \u001b[0mmeta_props\u001b[0m\u001b[0;34m=\u001b[0m\u001b[0mmodel_props\u001b[0m\u001b[0;34m,\u001b[0m \u001b[0mtraining_data\u001b[0m\u001b[0;34m=\u001b[0m\u001b[0mtrain_data\u001b[0m\u001b[0;34m)\u001b[0m\u001b[0;34m\u001b[0m\u001b[0;34m\u001b[0m\u001b[0m\n\u001b[0m",
                        "\u001b[0;31mNameError\u001b[0m: name 'model_rf' is not defined"
                    ]
                }
            ]
        },
        {
            "metadata": {},
            "cell_type": "markdown",
            "source": "\n## 5.1 Save pipeline and model\n\nIn this subsection you will learn how to save pipeline and model artifacts to your Watson Machine Learning instance."
        },
        {
            "metadata": {},
            "cell_type": "code",
            "source": "import json\npublished_model_uid = client.repository.get_model_uid(published_model)\nmodel_details = client.repository.get_details(published_model_uid)\nprint(json.dumps(model_details, indent=2))",
            "execution_count": 10,
            "outputs": [
                {
                    "output_type": "error",
                    "ename": "NameError",
                    "evalue": "name 'published_model' is not defined",
                    "traceback": [
                        "\u001b[0;31m---------------------------------------------------------------------------\u001b[0m",
                        "\u001b[0;31mNameError\u001b[0m                                 Traceback (most recent call last)",
                        "\u001b[0;32m<ipython-input-10-89664e2619a6>\u001b[0m in \u001b[0;36m<module>\u001b[0;34m()\u001b[0m\n\u001b[1;32m      1\u001b[0m \u001b[0;32mimport\u001b[0m \u001b[0mjson\u001b[0m\u001b[0;34m\u001b[0m\u001b[0;34m\u001b[0m\u001b[0m\n\u001b[0;32m----> 2\u001b[0;31m \u001b[0mpublished_model_uid\u001b[0m \u001b[0;34m=\u001b[0m \u001b[0mclient\u001b[0m\u001b[0;34m.\u001b[0m\u001b[0mrepository\u001b[0m\u001b[0;34m.\u001b[0m\u001b[0mget_model_uid\u001b[0m\u001b[0;34m(\u001b[0m\u001b[0mpublished_model\u001b[0m\u001b[0;34m)\u001b[0m\u001b[0;34m\u001b[0m\u001b[0;34m\u001b[0m\u001b[0m\n\u001b[0m\u001b[1;32m      3\u001b[0m \u001b[0mmodel_details\u001b[0m \u001b[0;34m=\u001b[0m \u001b[0mclient\u001b[0m\u001b[0;34m.\u001b[0m\u001b[0mrepository\u001b[0m\u001b[0;34m.\u001b[0m\u001b[0mget_details\u001b[0m\u001b[0;34m(\u001b[0m\u001b[0mpublished_model_uid\u001b[0m\u001b[0;34m)\u001b[0m\u001b[0;34m\u001b[0m\u001b[0;34m\u001b[0m\u001b[0m\n\u001b[1;32m      4\u001b[0m \u001b[0mprint\u001b[0m\u001b[0;34m(\u001b[0m\u001b[0mjson\u001b[0m\u001b[0;34m.\u001b[0m\u001b[0mdumps\u001b[0m\u001b[0;34m(\u001b[0m\u001b[0mmodel_details\u001b[0m\u001b[0;34m,\u001b[0m \u001b[0mindent\u001b[0m\u001b[0;34m=\u001b[0m\u001b[0;36m2\u001b[0m\u001b[0;34m)\u001b[0m\u001b[0;34m)\u001b[0m\u001b[0;34m\u001b[0m\u001b[0;34m\u001b[0m\u001b[0m\n",
                        "\u001b[0;31mNameError\u001b[0m: name 'published_model' is not defined"
                    ]
                }
            ]
        },
        {
            "metadata": {},
            "cell_type": "markdown",
            "source": "\n## 5.2 Load model to verify that it was saved correctly\n\nYou can load your model to make sure that it was saved correctly."
        },
        {
            "metadata": {},
            "cell_type": "code",
            "source": "loaded_model = client.repository.load(published_model_uid)\nprint(loaded_model)",
            "execution_count": null,
            "outputs": []
        },
        {
            "metadata": {},
            "cell_type": "markdown",
            "source": "Call model against test data to verify that it has been loaded correctly. Examine top 3 results"
        },
        {
            "metadata": {},
            "cell_type": "code",
            "source": "test_predictions = loaded_model.transform(test_data)\ntest_predictions.select('probability', 'predictedLabel').show(n=3, truncate=False)",
            "execution_count": null,
            "outputs": []
        },
        {
            "metadata": {},
            "cell_type": "markdown",
            "source": "## <font color=green>Congratulations</font>, you've sucessfully created a predictive model and saved it in the Watson Machine Learning service. \n\nYou can now switch to the Watson Machine Learning console to deploy the model and then test it in application, or continue within the notebook to deploy the model using the APIs.\n\n***"
        },
        {
            "metadata": {},
            "cell_type": "markdown",
            "source": "## 6.0 Accessing Watson ML Models and Deployments through API\n\nInstead of jumping from your notebook into a web browser, manage your model and delopment through a set of APIs"
        },
        {
            "metadata": {},
            "cell_type": "markdown",
            "source": "### Deploy model to WML Service"
        },
        {
            "metadata": {},
            "cell_type": "code",
            "source": "created_deployment = client.deployments.create(published_model_uid, name=\"Heart Failure prediction\")",
            "execution_count": null,
            "outputs": []
        },
        {
            "metadata": {},
            "cell_type": "markdown",
            "source": "### Print the scoring endpoint"
        },
        {
            "metadata": {},
            "cell_type": "code",
            "source": "scoring_endpoint = client.deployments.get_scoring_url(created_deployment)\n\nprint(scoring_endpoint)",
            "execution_count": null,
            "outputs": []
        },
        {
            "metadata": {},
            "cell_type": "markdown",
            "source": "### List model deployments"
        },
        {
            "metadata": {},
            "cell_type": "code",
            "source": "client.deployments.list()",
            "execution_count": null,
            "outputs": []
        },
        {
            "metadata": {},
            "cell_type": "markdown",
            "source": "6.1 Invoke prediction model deployment\n"
        },
        {
            "metadata": {},
            "cell_type": "code",
            "source": "scoring_payload = { \"fields\":[\"AVGHEARTBEATSPERMIN\",\"PALPITATIONSPERDAY\",\"CHOLESTEROL\",\"BMI\",\"AGE\",\"SEX\",\"FAMILYHISTORY\",\"SMOKERLAST5YRS\",\"EXERCISEMINPERWEEK\"],\"values\":[[100,85,242,24,44,\"F\",\"Y\",\"Y\",125]]}\n\npredictions = client.deployments.score(scoring_endpoint, scoring_payload)\n\nprint(json.dumps(predictions, indent=2))\nprint(predictions['values'][0][17])",
            "execution_count": null,
            "outputs": []
        },
        {
            "metadata": {},
            "cell_type": "markdown",
            "source": " Narrow down prediction results to just the prediction"
        },
        {
            "metadata": {},
            "cell_type": "code",
            "source": "print('Is a 44 year old female that smokes with a low BMI at risk of Heart Failure?: {}'.format(client.deployments.score(scoring_endpoint, scoring_payload)\n['values'][0][17]))",
            "execution_count": null,
            "outputs": []
        }
    ],
    "metadata": {
        "celltoolbar": "Raw Cell Format",
        "kernelspec": {
            "name": "python36",
            "display_name": "Python 3.6 with Spark",
            "language": "python3"
        },
        "language_info": {
            "mimetype": "text/x-python",
            "nbconvert_exporter": "python",
            "name": "python",
            "pygments_lexer": "ipython3",
            "version": "3.6.8",
            "file_extension": ".py",
            "codemirror_mode": {
                "version": 3,
                "name": "ipython"
            }
        }
    },
    "nbformat": 4,
    "nbformat_minor": 1
}
